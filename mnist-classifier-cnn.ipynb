{
 "cells": [
  {
   "cell_type": "markdown",
   "execution_count": null,
   "metadata": {
    "_cell_guid": "b1076dfc-b9ad-4769-8c92-a6c4dae69d19",
    "_uuid": "8f2839f25d086af736a60e9eeb907d3b93b6e0e5"
   },
   "source": [
    "This Python 3 environment comes with many helpful analytics libraries installed\n",
    "It is defined by the kaggle/python Docker image: https://github.com/kaggle/docker-python\n",
    "\n",
    "Input data files are available in the read-only \"../input/\" directory\n",
    "For example, running this (by clicking run or pressing Shift+Enter) will list all files under the input directory\n",
    "\n",
    "You can write up to 5GB to the current directory (/kaggle/working/) that gets preserved as output when you create a version using \"Save & Run All\" \n",
    "You can also write temporary files to /kaggle/temp/, but they won't be saved outside of the current session"
   ]
  },
  {
   "cell_type": "markdown",
   "execution_count": null,
   "metadata": {
    "_cell_guid": "79c7e3d0-c299-4dcb-8224-4455121ee9b0",
    "_uuid": "d629ff2d2480ee46fbb7e2d37f6b5fab8052498a",
    "collapsed": true
   },
   "source": [
    "# **1. Libraries & Configuration**"
   ]
  },
  {
   "cell_type": "code",
   "execution_count": 1,
   "metadata": {},
   "outputs": [
    {
     "name": "stdout",
     "output_type": "stream",
     "text": [
      "/kaggle/input/digit-recognizer/train.csv\n",
      "/kaggle/input/digit-recognizer/test.csv\n",
      "/kaggle/input/digit-recognizer/sample_submission.csv\n"
     ]
    }
   ],
   "source": [
    "import numpy as np\n",
    "import pandas as pd\n",
    "\n",
    "import os\n",
    "for dirname, _, filenames in os.walk('/kaggle/input'):\n",
    "    for filename in filenames:\n",
    "        print(os.path.join(dirname, filename))\n",
    "\n",
    "import torch\n",
    "import torch.optim as optim\n",
    "import torch.nn as nn\n",
    "import torch.nn.functional as F\n",
    "\n",
    "import torchvision\n",
    "import torchvision.transforms as transforms\n",
    "\n",
    "import matplotlib.pyplot as plt\n",
    "import matplotlib.patches as mpatches\n",
    "%matplotlib inline"
   ]
  },
  {
   "cell_type": "code",
   "execution_count": 2,
   "metadata": {},
   "outputs": [],
   "source": [
    "device = torch.device('cuda' if torch.cuda.is_available() else 'cpu')"
   ]
  },
  {
   "cell_type": "markdown",
   "execution_count": null,
   "metadata": {},
   "source": [
    "# **2. Hyperparameters**"
   ]
  },
  {
   "cell_type": "code",
   "execution_count": 3,
   "metadata": {},
   "outputs": [],
   "source": [
    "epochs = 12\n",
    "batch_Size = 100\n",
    "learning_Rate = 0.02\n",
    "weight_Decay = 0.001\n",
    "model_Dropout = 0.35"
   ]
  },
  {
   "cell_type": "markdown",
   "execution_count": null,
   "metadata": {},
   "source": [
    "# **3. Importing data**"
   ]
  },
  {
   "cell_type": "code",
   "execution_count": 4,
   "metadata": {},
   "outputs": [],
   "source": [
    "def read_file(fileName):\n",
    "    \n",
    "    df = pd.read_csv('../input/digit-recognizer/' + fileName)\n",
    "    \n",
    "    if(fileName == 'train.csv'):\n",
    "        \n",
    "        #Train data\n",
    "        label = np.array(df['label'])\n",
    "        data = np.array(df[df.columns[1:]], dtype = np.float)\n",
    "        new_data = np.reshape(a = data, newshape = (data.shape[0],28,28))\n",
    "        \n",
    "        return new_data, label\n",
    "    \n",
    "    elif(fileName == 'test.csv'):\n",
    "        \n",
    "        #Test data\n",
    "        data = np.array(df,dtype = np.float)\n",
    "        new_data = np.reshape(a = data, newshape = (data.shape[0],28,28))\n",
    "        \n",
    "        return new_data"
   ]
  },
  {
   "cell_type": "code",
   "execution_count": 5,
   "metadata": {},
   "outputs": [],
   "source": [
    "train_data, train_label = read_file('train.csv')\n",
    "test_data = read_file('test.csv')"
   ]
  },
  {
   "cell_type": "markdown",
   "execution_count": null,
   "metadata": {},
   "source": [
    "# **4. Preprocessing Data**"
   ]
  },
  {
   "cell_type": "code",
   "execution_count": 6,
   "metadata": {},
   "outputs": [
    {
     "name": "stdout",
     "output_type": "stream",
     "text": [
      "Train set: 35000\n",
      "Validation set: 7000\n",
      "Test set: 28000\n"
     ]
    }
   ],
   "source": [
    "#Normalizing\n",
    "train_data = train_data / 255 #Range[0,255] to [0,1]\n",
    "test_data = test_data / 255\n",
    "\n",
    "#Standarizing\n",
    "train_data = (train_data - 0.5) / 0.5\n",
    "test_data = (test_data - 0.5) / 0.5\n",
    "\n",
    "#Numpy to tensor\n",
    "train_data = torch.from_numpy(train_data)\n",
    "test_data = torch.from_numpy(test_data)\n",
    "\n",
    "train_data, test_data = train_data.type(torch.FloatTensor), test_data.type(torch.FloatTensor)\n",
    "\n",
    "#Add column dim\n",
    "train_data = train_data.unsqueeze_(dim=1)\n",
    "test_data = test_data.unsqueeze_(dim=1)\n",
    "\n",
    "#Train dataset (data + labels)\n",
    "train_dataset = torch.utils.data.TensorDataset(train_data, torch.from_numpy(train_label))\n",
    "\n",
    "#Split the datasets\n",
    "train_dataset, valid_dataset = torch.utils.data.random_split(train_dataset, [35000, 7000]) #50/10/40\n",
    "\n",
    "#DataLoaders\n",
    "train_loader = torch.utils.data.DataLoader(train_dataset, batch_size = batch_Size, shuffle = True)\n",
    "valid_loader = torch.utils.data.DataLoader(valid_dataset, batch_size = batch_Size, shuffle = True)\n",
    "test_loader = torch.utils.data.DataLoader(test_data, batch_size = 28000, shuffle = False) #batch_size = batch_Size,\n",
    "\n",
    "#classes = ['zero', 'one', 'two', 'three', 'four', 'five', 'six', 'seven', 'eight', 'nine']\n",
    "\n",
    "print ('Train set: ' + str(len(train_dataset)))\n",
    "print ('Validation set: ' + str(len(valid_dataset)))\n",
    "print ('Test set: ' + str(len(test_data)))"
   ]
  },
  {
   "cell_type": "markdown",
   "execution_count": null,
   "metadata": {},
   "source": [
    "# **5. Visualize random training sample**"
   ]
  },
  {
   "cell_type": "code",
   "execution_count": 7,
   "metadata": {},
   "outputs": [
    {
     "data": {
      "text/plain": [
       "<matplotlib.image.AxesImage at 0x7fc3749ffc10>"
      ]
     },
     "execution_count": 7,
     "metadata": {},
     "output_type": "execute_result"
    },
    {
     "data": {
      "image/png": "[encoded data removed]",
      "text/plain": [
       "<Figure size 432x288 with 1 Axes>"
      ]
     },
     "metadata": {
      "needs_background": "light"
     },
     "output_type": "display_data"
    }
   ],
   "source": [
    "from random import randrange\n",
    "\n",
    "temp = train_loader.dataset[randrange(10)][0].numpy()\n",
    "temp = np.reshape(a=temp, newshape=(temp.shape[1], temp.shape[2]))\n",
    "plt.imshow(temp)"
   ]
  },
  {
   "cell_type": "markdown",
   "execution_count": null,
   "metadata": {},
   "source": [
    "# **6. Implementing CNN (Architecture)**"
   ]
  },
  {
   "cell_type": "code",
   "execution_count": 8,
   "metadata": {},
   "outputs": [],
   "source": [
    "class ConvNet(nn.Module):\n",
    "    \n",
    "    def __init__(self):\n",
    "        \n",
    "        super().__init__()\n",
    "        \n",
    "        #Layer sizes\n",
    "        hidden1 = 512\n",
    "        hidden2 = 128\n",
    "        hidden3 = 64\n",
    "        \n",
    "        #Convolutions & Pooling\n",
    "        self.conv1 = nn.Conv2d(1, 32, 3)   #input channel size, output channel size, kernel size\n",
    "        self.conv2 = nn.Conv2d(32, 64, 3)\n",
    "        self.pool = nn.MaxPool2d(2, 2)     #size, stride\n",
    "        \n",
    "        #Fully connected layers\n",
    "        self.fc1 = nn.Linear(1600, hidden1)\n",
    "        self.fc2 = nn.Linear(hidden1, hidden2)\n",
    "        self.fc3 = nn.Linear(hidden2, hidden3)\n",
    "        self.fc4 = nn.Linear(hidden3, 10)\n",
    "        \n",
    "        self.dropout = nn.Dropout(model_Dropout)\n",
    "    \n",
    "    def forward(self, x):\n",
    "        \n",
    "        #Feature learning\n",
    "        x = self.pool(F.relu(self.conv1(x)))\n",
    "        x = self.pool(F.relu(self.conv2(x)))\n",
    "        \n",
    "        #Classification\n",
    "        x = x.view(x.shape[0], -1)\n",
    "        \n",
    "        x = F.relu(self.fc1(x))\n",
    "        x = self.dropout(x)\n",
    "        x = F.relu(self.fc2(x))\n",
    "        x = self.dropout(x)\n",
    "        x = F.relu(self.fc3(x))\n",
    "        x = self.dropout(x)\n",
    "        x = self.fc4(x)\n",
    "        \n",
    "        return F.log_softmax(x)"
   ]
  },
  {
   "cell_type": "markdown",
   "execution_count": null,
   "metadata": {},
   "source": [
    "# **7. Model (Training & Validation)**"
   ]
  },
  {
   "cell_type": "code",
   "execution_count": 9,
   "metadata": {},
   "outputs": [],
   "source": [
    "recog_model = ConvNet()#.to(device)\n",
    "\n",
    "criterion = nn.CrossEntropyLoss()\n",
    "optimizer = optim.SGD(recog_model.parameters(), lr=learning_Rate, weight_decay = weight_Decay)\n",
    "\n",
    "steps = 0\n",
    "\n",
    "accuracy_list = []\n",
    "train_losses, valid_losses = [], []"
   ]
  },
  {
   "cell_type": "code",
   "execution_count": 10,
   "metadata": {},
   "outputs": [
    {
     "name": "stderr",
     "output_type": "stream",
     "text": [
      "/opt/conda/lib/python3.7/site-packages/ipykernel_launcher.py:42: UserWarning: Implicit dimension choice for log_softmax has been deprecated. Change the call to include dim=X as an argument.\n"
     ]
    },
    {
     "name": "stdout",
     "output_type": "stream",
     "text": [
      "Accuracy 1: 25.0%\n",
      "Accuracy 2: 86.00000143051147%\n",
      "Accuracy 3: 93.99999976158142%\n",
      "Accuracy 4: 100.0%\n",
      "Accuracy 5: 93.00000071525574%\n",
      "Accuracy 6: 94.9999988079071%\n",
      "Accuracy 7: 94.9999988079071%\n",
      "Accuracy 8: 97.00000286102295%\n",
      "Accuracy 9: 97.00000286102295%\n",
      "Accuracy 10: 95.99999785423279%\n",
      "Accuracy 11: 100.0%\n",
      "Accuracy 12: 97.00000286102295%\n",
      "Final training loss: 0.0587239434131022\n",
      "Final validation loss: tensor(0.0847)\n"
     ]
    },
    {
     "data": {
      "image/png": "[encoded data removed]",
      "text/plain": [
       "<Figure size 432x288 with 1 Axes>"
      ]
     },
     "metadata": {
      "needs_background": "light"
     },
     "output_type": "display_data"
    },
    {
     "data": {
      "image/png": "[encoded data removed]",
      "text/plain": [
       "<Figure size 432x288 with 1 Axes>"
      ]
     },
     "metadata": {
      "needs_background": "light"
     },
     "output_type": "display_data"
    }
   ],
   "source": [
    "for e in range (epochs):\n",
    "    \n",
    "    running_loss = 0\n",
    "    \n",
    "    for images, labels in train_loader:\n",
    "        \n",
    "        #GPU support\n",
    "        #images = images.to(device)\n",
    "        #labels = labels.to(device)\n",
    "        \n",
    "        #Forward\n",
    "        output = recog_model(images)\n",
    "        loss = criterion(output, labels)\n",
    "        \n",
    "        #Backward\n",
    "        optimizer.zero_grad()\n",
    "        loss.backward()\n",
    "        optimizer.step()\n",
    "        \n",
    "        running_loss += loss.item()\n",
    "        \n",
    "    else:\n",
    "        \n",
    "        valid_loss = 0\n",
    "        accuracy = 0\n",
    "        \n",
    "        #Evaluate the model\n",
    "        with torch.no_grad():\n",
    "            recog_model.eval()\n",
    "            \n",
    "            for images, labels in valid_loader:\n",
    "                \n",
    "                output = recog_model(images)\n",
    "                valid_loss += criterion(output, labels)\n",
    "                \n",
    "                ps = torch.exp(output)\n",
    "                top_p, top_class = ps.topk(1, dim=1)\n",
    "                equals = top_class == labels.reshape(*top_class.shape)\n",
    "                \n",
    "                accuracy = torch.mean(equals.type(torch.FloatTensor))\n",
    "                \n",
    "        print('Accuracy ' + str(e+1) + ': ' + str(accuracy.item() * 100) + '%')\n",
    "                \n",
    "        #Store values for plotting\n",
    "        accuracy_list.append(accuracy.item() * 100)\n",
    "        train_losses.append(running_loss / len(train_loader))\n",
    "        valid_losses.append(valid_loss / len(valid_loader))\n",
    "\n",
    "#Print the losses\n",
    "print('Final training loss: ' + str(train_losses[epochs-1]))\n",
    "print('Final validation loss: ' + str(valid_losses[epochs-1]))\n",
    "        \n",
    "### Plot ###\n",
    "xAxis = []\n",
    "for i in range(epochs):\n",
    "    xAxis.append(i+1)\n",
    "    \n",
    "#Accuracy graph\n",
    "plt.plot(xAxis, accuracy_list)\n",
    "plt.ylabel('%')\n",
    "plt.xlabel('Epoch')\n",
    "plt.title('Accuracy')\n",
    "plt.show()\n",
    "\n",
    "#Loss graph\n",
    "plt.plot(xAxis, train_losses, 'r--', xAxis, valid_losses, 'g--')\n",
    "red_line = mpatches.Patch(color='red', label='train loss')\n",
    "green_line = mpatches.Patch(color='green', label='valid loss')\n",
    "plt.legend(handles=[red_line, green_line])\n",
    "plt.xlabel('Epoch')\n",
    "plt.title('Loss')\n",
    "plt.show()"
   ]
  },
  {
   "cell_type": "markdown",
   "execution_count": null,
   "metadata": {},
   "source": [
    "# **8. Submission (Test)**"
   ]
  },
  {
   "cell_type": "code",
   "execution_count": 11,
   "metadata": {},
   "outputs": [
    {
     "name": "stdout",
     "output_type": "stream",
     "text": [
      "Done\n"
     ]
    },
    {
     "name": "stderr",
     "output_type": "stream",
     "text": [
      "/opt/conda/lib/python3.7/site-packages/ipykernel_launcher.py:42: UserWarning: Implicit dimension choice for log_softmax has been deprecated. Change the call to include dim=X as an argument.\n"
     ]
    }
   ],
   "source": [
    "#Evaluate the model\n",
    "with torch.no_grad():\n",
    "    recog_model.eval()\n",
    "            \n",
    "    for images in test_loader:\n",
    "              \n",
    "        output = recog_model(images)\n",
    "        ps = torch.exp(output)\n",
    "        top_p, top_class = ps.topk(1, dim=1)\n",
    "\n",
    "print('Done')        "
   ]
  },
  {
   "cell_type": "code",
   "execution_count": 12,
   "metadata": {},
   "outputs": [
    {
     "data": {
      "text/plain": [
       "0        2\n",
       "1        0\n",
       "2        9\n",
       "3        9\n",
       "4        3\n",
       "        ..\n",
       "27995    9\n",
       "27996    7\n",
       "27997    3\n",
       "27998    9\n",
       "27999    2\n",
       "Name: Label, Length: 28000, dtype: int64"
      ]
     },
     "execution_count": 12,
     "metadata": {},
     "output_type": "execute_result"
    }
   ],
   "source": [
    "#results = recog_model.predict(test_loader)\n",
    "results = np.argmax(output, axis = 1) #results por output\n",
    "results = pd.Series(results, name = 'Label')\n",
    "results"
   ]
  },
  {
   "cell_type": "code",
   "execution_count": 13,
   "metadata": {},
   "outputs": [],
   "source": [
    "submission = pd.concat([pd.Series(range(1, 28001), name = 'ImageId'), results], axis = 1)\n",
    "submission.to_csv('submission.csv', index = False)"
   ]
  },
  {
   "cell_type": "code",
   "execution_count": null,
   "metadata": {},
   "outputs": [],
   "source": []
  }
 ],
 "metadata": {
  "kernelspec": {
   "display_name": "Python 3",
   "language": "python",
   "name": "python3"
  },
  "language_info": {
   "codemirror_mode": {
    "name": "ipython",
    "version": 3
   },
   "file_extension": ".py",
   "mimetype": "text/x-python",
   "name": "python",
   "nbconvert_exporter": "python",
   "pygments_lexer": "ipython3",
   "version": "3.7.6"
  }
 },
 "nbformat": 4,
 "nbformat_minor": 4
}
